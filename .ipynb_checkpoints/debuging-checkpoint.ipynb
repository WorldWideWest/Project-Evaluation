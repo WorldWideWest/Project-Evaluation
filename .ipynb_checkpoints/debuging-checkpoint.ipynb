{
 "cells": [
  {
   "cell_type": "code",
   "execution_count": 1,
   "metadata": {},
   "outputs": [],
   "source": [
    "from cashFlow import *\n",
    "from periodChecking import *\n",
    "from evaluatingMethods import *"
   ]
  },
  {
   "cell_type": "code",
   "execution_count": 2,
   "metadata": {},
   "outputs": [],
   "source": [
    "project_A = ['Project 1', 15000, 1000, 2000, 3000, 4000, 5000, 6000]\n",
    "project_B = ['Project 2', 15000, 3500, 3500, 3500, 3500, 3500, 3500]\n",
    "project_C = ['Project 3', 15000, 6000, 5000, 4000, 3000, 2000, 1000]\n",
    "\n",
    "projects = [project_A, project_B, project_C]"
   ]
  },
  {
   "cell_type": "markdown",
   "metadata": {},
   "source": [
    "## CASHFLOW TABLE"
   ]
  },
  {
   "cell_type": "code",
   "execution_count": 3,
   "metadata": {},
   "outputs": [
    {
     "data": {
      "text/html": [
       "<div>\n",
       "<style scoped>\n",
       "    .dataframe tbody tr th:only-of-type {\n",
       "        vertical-align: middle;\n",
       "    }\n",
       "\n",
       "    .dataframe tbody tr th {\n",
       "        vertical-align: top;\n",
       "    }\n",
       "\n",
       "    .dataframe thead th {\n",
       "        text-align: right;\n",
       "    }\n",
       "</style>\n",
       "<table border=\"1\" class=\"dataframe\">\n",
       "  <thead>\n",
       "    <tr style=\"text-align: right;\">\n",
       "      <th></th>\n",
       "      <th>Year</th>\n",
       "      <th>Description</th>\n",
       "      <th>Project 1</th>\n",
       "      <th>Project 2</th>\n",
       "      <th>Project 3</th>\n",
       "    </tr>\n",
       "  </thead>\n",
       "  <tbody>\n",
       "    <tr>\n",
       "      <th>0</th>\n",
       "      <td>0</td>\n",
       "      <td>Investment</td>\n",
       "      <td>15000.00</td>\n",
       "      <td>15000.00</td>\n",
       "      <td>15000.00</td>\n",
       "    </tr>\n",
       "    <tr>\n",
       "      <th>1</th>\n",
       "      <td>1</td>\n",
       "      <td>Return</td>\n",
       "      <td>1000.00</td>\n",
       "      <td>3500.00</td>\n",
       "      <td>6000.00</td>\n",
       "    </tr>\n",
       "    <tr>\n",
       "      <th>2</th>\n",
       "      <td>2</td>\n",
       "      <td>Return</td>\n",
       "      <td>2000.00</td>\n",
       "      <td>3500.00</td>\n",
       "      <td>5000.00</td>\n",
       "    </tr>\n",
       "    <tr>\n",
       "      <th>3</th>\n",
       "      <td>3</td>\n",
       "      <td>Return</td>\n",
       "      <td>3000.00</td>\n",
       "      <td>3500.00</td>\n",
       "      <td>4000.00</td>\n",
       "    </tr>\n",
       "    <tr>\n",
       "      <th>4</th>\n",
       "      <td>4</td>\n",
       "      <td>Return</td>\n",
       "      <td>4000.00</td>\n",
       "      <td>3500.00</td>\n",
       "      <td>3000.00</td>\n",
       "    </tr>\n",
       "    <tr>\n",
       "      <th>5</th>\n",
       "      <td>5</td>\n",
       "      <td>Return</td>\n",
       "      <td>5000.00</td>\n",
       "      <td>3500.00</td>\n",
       "      <td>2000.00</td>\n",
       "    </tr>\n",
       "    <tr>\n",
       "      <th>6</th>\n",
       "      <td>6</td>\n",
       "      <td>Return</td>\n",
       "      <td>6000.00</td>\n",
       "      <td>3500.00</td>\n",
       "      <td>1000.00</td>\n",
       "    </tr>\n",
       "    <tr>\n",
       "      <th>7</th>\n",
       "      <td>NaN</td>\n",
       "      <td>Net Cash Flow</td>\n",
       "      <td>21000.00</td>\n",
       "      <td>21000.00</td>\n",
       "      <td>21000.00</td>\n",
       "    </tr>\n",
       "    <tr>\n",
       "      <th>8</th>\n",
       "      <td>NaN</td>\n",
       "      <td>Net Value</td>\n",
       "      <td>6000.00</td>\n",
       "      <td>6000.00</td>\n",
       "      <td>6000.00</td>\n",
       "    </tr>\n",
       "    <tr>\n",
       "      <th>9</th>\n",
       "      <td>NaN</td>\n",
       "      <td>Average Net Cash Flow</td>\n",
       "      <td>3500.00</td>\n",
       "      <td>3500.00</td>\n",
       "      <td>3500.00</td>\n",
       "    </tr>\n",
       "    <tr>\n",
       "      <th>10</th>\n",
       "      <td>NaN</td>\n",
       "      <td>Average Yearly Profit Rate</td>\n",
       "      <td>23.33</td>\n",
       "      <td>23.33</td>\n",
       "      <td>23.33</td>\n",
       "    </tr>\n",
       "  </tbody>\n",
       "</table>\n",
       "</div>"
      ],
      "text/plain": [
       "   Year                 Description  Project 1  Project 2  Project 3\n",
       "0     0                  Investment   15000.00   15000.00   15000.00\n",
       "1     1                      Return    1000.00    3500.00    6000.00\n",
       "2     2                      Return    2000.00    3500.00    5000.00\n",
       "3     3                      Return    3000.00    3500.00    4000.00\n",
       "4     4                      Return    4000.00    3500.00    3000.00\n",
       "5     5                      Return    5000.00    3500.00    2000.00\n",
       "6     6                      Return    6000.00    3500.00    1000.00\n",
       "7   NaN               Net Cash Flow   21000.00   21000.00   21000.00\n",
       "8   NaN                   Net Value    6000.00    6000.00    6000.00\n",
       "9   NaN       Average Net Cash Flow    3500.00    3500.00    3500.00\n",
       "10  NaN  Average Yearly Profit Rate      23.33      23.33      23.33"
      ]
     },
     "execution_count": 3,
     "metadata": {},
     "output_type": "execute_result"
    }
   ],
   "source": [
    "cashFlow = NCF(projects)\n",
    "dataFrame = cashFlow.Table()\n",
    "dataFrame"
   ]
  },
  {
   "cell_type": "code",
   "execution_count": 4,
   "metadata": {
    "scrolled": false
   },
   "outputs": [],
   "source": [
    "evaulation = Methods(dataFrame)"
   ]
  },
  {
   "cell_type": "code",
   "execution_count": 5,
   "metadata": {},
   "outputs": [
    {
     "name": "stdout",
     "output_type": "stream",
     "text": [
      "Period Checking Table\n"
     ]
    }
   ],
   "source": [
    "evaulation.NetPresentValue(interestRate=5, periodChecking = True)"
   ]
  },
  {
   "cell_type": "code",
   "execution_count": 6,
   "metadata": {},
   "outputs": [
    {
     "data": {
      "text/plain": [
       "(  Year  Discount Factor (5) Project 1 Project 2 Project 3  \\\n",
       " 0    0                 1.00  15000.00  15000.00  15000.00   \n",
       " 1    1                 0.95   1000.00   3500.00   6000.00   \n",
       " 2    2                 0.91   2000.00   3500.00   5000.00   \n",
       " 3    3                 0.86   3000.00   3500.00   4000.00   \n",
       " 4    4                 0.82   4000.00   3500.00   3000.00   \n",
       " 5    5                 0.78   5000.00   3500.00   2000.00   \n",
       " 6    6                 0.75   6000.00   3500.00   1000.00   \n",
       " 0  NaN                TOTAL  21000.00  21000.00  21000.00   \n",
       " 0  NaN    Net Present Value         -         -         -   \n",
       " 0  NaN  Profitability index         -         -         -   \n",
       " 0  NaN       Annuity Method         -         -         -   \n",
       " \n",
       "    Project 1 Discounted  Project 2 Discounted  Project 3 Discounted  \n",
       " 0              15000.00              15000.00              15000.00  \n",
       " 1                952.38               3333.33               5714.29  \n",
       " 2               1814.06               3174.60               4535.15  \n",
       " 3               2591.51               3023.43               3455.35  \n",
       " 4               3290.81               2879.46               2468.11  \n",
       " 5               3917.63               2742.34               1567.05  \n",
       " 6               4477.29               2611.75                746.22  \n",
       " 0              17043.69              17764.92              18486.16  \n",
       " 0               2043.69               2764.92               3486.16  \n",
       " 0                  1.14                  1.18                  1.23  \n",
       " 0               3357.90               3500.00               3642.10  ,\n",
       " ([5.54, 4.94, 3.52],\n",
       "             Project Name  Return Period\n",
       "  0  Project 1 Discounted           5.54\n",
       "  1  Project 2 Discounted           4.94\n",
       "  2  Project 3 Discounted           3.52))"
      ]
     },
     "execution_count": 6,
     "metadata": {},
     "output_type": "execute_result"
    }
   ],
   "source": []
  },
  {
   "cell_type": "code",
   "execution_count": null,
   "metadata": {},
   "outputs": [],
   "source": []
  },
  {
   "cell_type": "code",
   "execution_count": null,
   "metadata": {},
   "outputs": [],
   "source": []
  }
 ],
 "metadata": {
  "kernelspec": {
   "display_name": "Python 3",
   "language": "python",
   "name": "python3"
  },
  "language_info": {
   "codemirror_mode": {
    "name": "ipython",
    "version": 3
   },
   "file_extension": ".py",
   "mimetype": "text/x-python",
   "name": "python",
   "nbconvert_exporter": "python",
   "pygments_lexer": "ipython3",
   "version": "3.8.5"
  }
 },
 "nbformat": 4,
 "nbformat_minor": 2
}
